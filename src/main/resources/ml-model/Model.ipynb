{
 "cells": [
  {
   "cell_type": "code",
   "execution_count": 2,
   "id": "d041a4fe",
   "metadata": {},
   "outputs": [
    {
     "name": "stderr",
     "output_type": "stream",
     "text": [
      "C:\\Users\\hp\\AppData\\Local\\Temp\\ipykernel_13280\\2232841793.py:15: FutureWarning: DataFrame.applymap has been deprecated. Use DataFrame.map instead.\n",
      "  df = df.applymap(lambda x: str(x).strip(' \"'))  # Strip unwanted quotes and whitespace\n"
     ]
    },
    {
     "name": "stdout",
     "output_type": "stream",
     "text": [
      "✅ Medicine accuracy: 58.97%\n",
      "✅ Diet accuracy: 56.41%\n",
      "🔮 Prediction -> Medicine: \"Acetaminophen (paracetamol)\"\n",
      "🍽️ Prediction -> Diet: \"Warm broths, soft bland foods, honey\"\n"
     ]
    }
   ],
   "source": [
    "import pandas as pd\n",
    "import numpy as np\n",
    "from sklearn.model_selection import train_test_split\n",
    "from sklearn.feature_extraction.text import TfidfVectorizer\n",
    "from sklearn.multioutput import MultiOutputClassifier\n",
    "from sklearn.ensemble import RandomForestClassifier\n",
    "from sklearn.pipeline import Pipeline\n",
    "from sklearn.metrics import accuracy_score\n",
    "from sklearn.preprocessing import LabelEncoder\n",
    "from flask import Flask, request, jsonify\n",
    "\n",
    "# Load and clean data\n",
    "df = pd.read_csv(\"clean_symptom_data.csv\", skiprows=1)  # Skip bad header row\n",
    "df.columns = ['Symptoms', 'Recommended Medicine', 'Diet Recommendation']\n",
    "df = df.applymap(lambda x: str(x).strip(' \"'))  # Strip unwanted quotes and whitespace\n",
    "df.dropna(inplace=True)\n",
    "\n",
    "# Features and targets\n",
    "X = df['Symptoms']\n",
    "y_medicine = df['Recommended Medicine']\n",
    "y_diet = df['Diet Recommendation']\n",
    "\n",
    "# Encode target variables\n",
    "le_med = LabelEncoder()\n",
    "le_diet = LabelEncoder()\n",
    "y_med_enc = le_med.fit_transform(y_medicine)\n",
    "y_diet_enc = le_diet.fit_transform(y_diet)\n",
    "Y = np.vstack((y_med_enc, y_diet_enc)).T\n",
    "\n",
    "# Split data\n",
    "X_train, X_test, Y_train, Y_test = train_test_split(X, Y, test_size=0.2, random_state=42)\n",
    "\n",
    "# Build pipeline\n",
    "pipeline = Pipeline([\n",
    "    ('tfidf', TfidfVectorizer(stop_words='english')),\n",
    "    ('clf', MultiOutputClassifier(RandomForestClassifier(n_estimators=100, random_state=42)))\n",
    "])\n",
    "\n",
    "# Train model\n",
    "pipeline.fit(X_train, Y_train)\n",
    "\n",
    "# Predict and evaluate\n",
    "Y_pred = pipeline.predict(X_test)\n",
    "acc_med = accuracy_score(Y_test[:, 0], Y_pred[:, 0])\n",
    "acc_diet = accuracy_score(Y_test[:, 1], Y_pred[:, 1])\n",
    "print(f\"✅ Medicine accuracy: {acc_med:.2%}\")\n",
    "print(f\"✅ Diet accuracy: {acc_diet:.2%}\")\n",
    "\n",
    "# Prediction function\n",
    "def predict_recommendations(symptoms_text):\n",
    "    pred = pipeline.predict([symptoms_text])[0]\n",
    "    return le_med.inverse_transform([pred[0]])[0], le_diet.inverse_transform([pred[1]])[0]\n",
    "\n",
    "# Example prediction\n",
    "symptom_input = \"fever, sore throat, cough\"\n",
    "med, diet = predict_recommendations(symptom_input)\n",
    "print(f\"🔮 Prediction -> Medicine: \\\"{med}\\\"\\n🍽️ Prediction -> Diet: \\\"{diet}\\\"\")\n"
   ]
  },
  {
   "cell_type": "code",
   "execution_count": 2,
   "id": "ea39d99d",
   "metadata": {},
   "outputs": [
    {
     "name": "stdout",
     "output_type": "stream",
     "text": [
      "Defaulting to user installation because normal site-packages is not writeable\n",
      "Requirement already satisfied: flask-cors in c:\\users\\hp\\appdata\\roaming\\python\\python312\\site-packages (5.0.1)\n",
      "Requirement already satisfied: flask>=0.9 in c:\\users\\hp\\appdata\\roaming\\python\\python312\\site-packages (from flask-cors) (3.1.0)\n",
      "Requirement already satisfied: Werkzeug>=0.7 in c:\\users\\hp\\appdata\\roaming\\python\\python312\\site-packages (from flask-cors) (3.1.3)\n",
      "Requirement already satisfied: Jinja2>=3.1.2 in c:\\users\\hp\\appdata\\roaming\\python\\python312\\site-packages (from flask>=0.9->flask-cors) (3.1.6)\n",
      "Requirement already satisfied: itsdangerous>=2.2 in c:\\users\\hp\\appdata\\roaming\\python\\python312\\site-packages (from flask>=0.9->flask-cors) (2.2.0)\n",
      "Requirement already satisfied: click>=8.1.3 in c:\\users\\hp\\appdata\\roaming\\python\\python312\\site-packages (from flask>=0.9->flask-cors) (8.1.8)\n",
      "Requirement already satisfied: blinker>=1.9 in c:\\users\\hp\\appdata\\roaming\\python\\python312\\site-packages (from flask>=0.9->flask-cors) (1.9.0)\n",
      "Requirement already satisfied: MarkupSafe>=2.1.1 in c:\\users\\hp\\appdata\\roaming\\python\\python312\\site-packages (from Werkzeug>=0.7->flask-cors) (3.0.2)\n",
      "Requirement already satisfied: colorama in c:\\users\\hp\\appdata\\roaming\\python\\python312\\site-packages (from click>=8.1.3->flask>=0.9->flask-cors) (0.4.6)\n",
      "Note: you may need to restart the kernel to use updated packages.\n"
     ]
    },
    {
     "name": "stderr",
     "output_type": "stream",
     "text": [
      "\n",
      "[notice] A new release of pip is available: 25.0.1 -> 25.1.1\n",
      "[notice] To update, run: python.exe -m pip install --upgrade pip\n"
     ]
    }
   ],
   "source": [
    "%pip install flask-cors"
   ]
  },
  {
   "cell_type": "code",
   "execution_count": null,
   "id": "79e5d432",
   "metadata": {},
   "outputs": [
    {
     "name": "stdout",
     "output_type": "stream",
     "text": [
      " * Serving Flask app '__main__'\n",
      " * Debug mode: off\n"
     ]
    },
    {
     "name": "stderr",
     "output_type": "stream",
     "text": [
      "WARNING: This is a development server. Do not use it in a production deployment. Use a production WSGI server instead.\n",
      " * Running on all addresses (0.0.0.0)\n",
      " * Running on http://127.0.0.1:5000\n",
      " * Running on http://192.168.43.5:5000\n",
      "Press CTRL+C to quit\n",
      "127.0.0.1 - - [17/May/2025 18:53:08] \"POST /predict HTTP/1.1\" 200 -\n"
     ]
    }
   ],
   "source": [
    "from flask_cors import CORS \n",
    "app = Flask(__name__)\n",
    "CORS(app)  # Enable Cross-Origin Resource Sharing\n",
    "\n",
    "def predict_recommendations(symptoms_list):\n",
    "    # Convert list to comma-separated string\n",
    "    symptoms_text = \", \".join(symptoms_list).lower()\n",
    "    pred = pipeline.predict([symptoms_text])[0]\n",
    "    return le_med.inverse_transform([pred[0]])[0], le_diet.inverse_transform([pred[1]])[0]\n",
    "\n",
    "@app.route('/predict', methods=['POST'])\n",
    "def predict():\n",
    "    data = request.get_json()\n",
    "    symptoms_list = data['symptoms']  # Now expects a list\n",
    "    med, diet = predict_recommendations(symptoms_list)\n",
    "    return jsonify({\n",
    "        'medicine': med,\n",
    "        'diet': diet\n",
    "    })\n",
    "    \n",
    "if __name__ == '__main__':\n",
    "    app.run(host='0.0.0.0', port=5000)"
   ]
  }
 ],
 "metadata": {
  "kernelspec": {
   "display_name": "Python 3",
   "language": "python",
   "name": "python3"
  },
  "language_info": {
   "codemirror_mode": {
    "name": "ipython",
    "version": 3
   },
   "file_extension": ".py",
   "mimetype": "text/x-python",
   "name": "python",
   "nbconvert_exporter": "python",
   "pygments_lexer": "ipython3",
   "version": "3.12.1"
  }
 },
 "nbformat": 4,
 "nbformat_minor": 5
}
